{
  "nbformat": 4,
  "nbformat_minor": 0,
  "metadata": {
    "colab": {
      "provenance": [],
      "authorship_tag": "ABX9TyPc5ciaYeBbIDYD1FC97q5Y",
      "include_colab_link": true
    },
    "kernelspec": {
      "name": "python3",
      "display_name": "Python 3"
    },
    "language_info": {
      "name": "python"
    }
  },
  "cells": [
    {
      "cell_type": "markdown",
      "metadata": {
        "id": "view-in-github",
        "colab_type": "text"
      },
      "source": [
        "<a href=\"https://colab.research.google.com/github/kanakala2116/Codeway_TaskNo/blob/main/Task4.ipynb\" target=\"_parent\"><img src=\"https://colab.research.google.com/assets/colab-badge.svg\" alt=\"Open In Colab\"/></a>"
      ]
    },
    {
      "cell_type": "code",
      "execution_count": 1,
      "metadata": {
        "colab": {
          "base_uri": "https://localhost:8080/"
        },
        "id": "nXnmS7pWxebY",
        "outputId": "21a8a801-9f95-476f-833d-2cefe64eaa90"
      },
      "outputs": [
        {
          "output_type": "stream",
          "name": "stdout",
          "text": [
            "Enter city name or zipcode: bhimavaram\n",
            "Temperature (in Celsius unit) : 26.97\n",
            "Atmospheric pressure (in hPa unit) : 1009\n",
            "Humidity (in percentage) : 81\n",
            "Description: clear sky\n"
          ]
        }
      ],
      "source": [
        "import requests\n",
        "def get_weather(location):\n",
        "    api_key = \"bb197c411e866ae3f1479038cba43e97\"\n",
        "    base_url = \"http://api.openweathermap.org/data/2.5/weather?\"\n",
        "    if location.isdigit():\n",
        "        main_url = base_url + \"zip=\" + location + \"&appid=\" + api_key\n",
        "        response = requests.get(main_url)\n",
        "        data = response.json()\n",
        "\n",
        "    else:\n",
        "        main_url = base_url + \"q=\" + location + \"&appid=\" + api_key\n",
        "        response = requests.get(main_url)\n",
        "        data = response.json()\n",
        "\n",
        "    if data[\"cod\"] != \"404\":\n",
        "        main_data = data[\"main\"]\n",
        "        temp_kelvin = main_data[\"temp\"]\n",
        "        temp_celsius = round(temp_kelvin - 273.15, 2)\n",
        "        pressure = main_data[\"pressure\"]\n",
        "        humidity = main_data[\"humidity\"]\n",
        "\n",
        "        weather_data = data[\"weather\"]\n",
        "        weather_description = weather_data[0][\"description\"]\n",
        "\n",
        "        print(\"Temperature (in Celsius unit) :\", temp_celsius)\n",
        "        print(\"Atmospheric pressure (in hPa unit) :\", pressure)\n",
        "        print(\"Humidity (in percentage) :\", humidity)\n",
        "        print(\"Description:\", weather_description)\n",
        "\n",
        "    else:\n",
        "        print(\"City not found!\")\n",
        "\n",
        "if __name__ == \"__main__\":\n",
        "    location = input(\"Enter city name or zipcode: \")\n",
        "get_weather(location)"
      ]
    }
  ]
}