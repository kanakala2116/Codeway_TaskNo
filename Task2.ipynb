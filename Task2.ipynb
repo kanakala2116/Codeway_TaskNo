{
  "nbformat": 4,
  "nbformat_minor": 0,
  "metadata": {
    "colab": {
      "provenance": [],
      "authorship_tag": "ABX9TyNM1gQfLH0UdJmnQ1AMKOUy",
      "include_colab_link": true
    },
    "kernelspec": {
      "name": "python3",
      "display_name": "Python 3"
    },
    "language_info": {
      "name": "python"
    }
  },
  "cells": [
    {
      "cell_type": "markdown",
      "metadata": {
        "id": "view-in-github",
        "colab_type": "text"
      },
      "source": [
        "<a href=\"https://colab.research.google.com/github/kanakala2116/Codeway_TaskNo/blob/main/Task2.ipynb\" target=\"_parent\"><img src=\"https://colab.research.google.com/assets/colab-badge.svg\" alt=\"Open In Colab\"/></a>"
      ]
    },
    {
      "cell_type": "code",
      "execution_count": 2,
      "metadata": {
        "colab": {
          "base_uri": "https://localhost:8080/"
        },
        "id": "AgAkqzp9vv51",
        "outputId": "a05a9a10-b4f9-43ec-cb6e-1ee2476aca42"
      },
      "outputs": [
        {
          "output_type": "stream",
          "name": "stdout",
          "text": [
            "Enter first value: 1\n",
            "Enter second value: 2\n",
            "please select your Arithmetic operation: \n",
            "Press 1 for Addition \n",
            "Press 2 for Subtraction \n",
            "Press 3 for Multiplication \n",
            "Press 4 for Division\n",
            "Enter your option: 3\n",
            "Multiplication of a * b = :  2.0\n"
          ]
        }
      ],
      "source": [
        "def switch():\n",
        "    a = float(input(\"Enter first value: \"))\n",
        "    b = float(input(\"Enter second value: \"))\n",
        "    print(\"please select your Arithmetic operation: \\nPress 1 for Addition \\nPress 2 for Subtraction \\nPress 3 for Multiplication \\nPress 4 for Division\")\n",
        "    option = int(input(\"Enter your option: \"))\n",
        "    if option == 1:\n",
        "        result = a+b\n",
        "        print(\"Addition of a + b = : \", result)\n",
        "    elif option == 2:\n",
        "        result = a-b\n",
        "        print(\"Subtraction of a - b = : \",result)\n",
        "    elif option == 3:\n",
        "        result = a*b\n",
        "        print(\"Multiplication of a * b = : \", result)\n",
        "    elif option == 4:\n",
        "        result = a/b\n",
        "        print(\"Division of a / b = : \",result)\n",
        "    else:\n",
        "        print(\"Invalid Value\")\n",
        "switch()"
      ]
    }
  ]
}